{
 "cells": [
  {
   "cell_type": "markdown",
   "id": "6ca54e36-cab7-4d79-9ea7-c3fab65d8e13",
   "metadata": {},
   "source": [
    "# Ejercicios sobre tipos de datos\n",
    "\n",
    "En este notebook vamos a hacer ejercicios en general sobre tipos de datos vistos anteriormente para profundizar en la materia"
   ]
  },
  {
   "cell_type": "markdown",
   "id": "d22ba9a9-2211-4136-9645-069ab208ec6c",
   "metadata": {},
   "source": [
    "## Ejercicio 1 - Palabra más larga\n",
    "\n",
    "Crear una función que busca de entre una lista de palabras, la palabra de mayor longitud y la devuelve"
   ]
  },
  {
   "cell_type": "code",
   "execution_count": null,
   "id": "27090f96-e09f-4045-ad8e-f5de85669798",
   "metadata": {},
   "outputs": [],
   "source": []
  },
  {
   "cell_type": "markdown",
   "id": "e3f1770e-b624-435e-98a0-53743e3ae16c",
   "metadata": {},
   "source": [
    "## Ejercicio 2 - Analizador de mayúsculas\n",
    "\n",
    "Crear una función que analice una cadena de caracteres y diga cuántas letras hay en mayúscula"
   ]
  },
  {
   "cell_type": "code",
   "execution_count": null,
   "id": "8d73611a-b5e3-469e-8676-441b92aba888",
   "metadata": {},
   "outputs": [],
   "source": []
  },
  {
   "cell_type": "markdown",
   "id": "b75b1c2b-f078-492d-ba2c-d54220af2150",
   "metadata": {},
   "source": [
    "## Ejercicio 3 - Buscar rimas\n",
    "\n",
    "Escribir una función que reciba 2 palabras y digan si riman analizando:\n",
    "* Si las 3 uĺtimas letras coinciden devuelve: Rima fuerte\n",
    "* Si las 2 últimas letras coinciden devuelve: Rima parcial\n",
    "* Si solo comparte la última volca: Rima debil\n",
    "* Si no se cumple ninguna de las anteriores devuelve: Sin rima\n"
   ]
  },
  {
   "cell_type": "code",
   "execution_count": null,
   "id": "5280284d-70c0-4f8b-a33b-a3bbdb5fbdd7",
   "metadata": {},
   "outputs": [],
   "source": []
  },
  {
   "cell_type": "markdown",
   "id": "7be47bc7-be0b-4194-bd0c-1b23718ee79b",
   "metadata": {},
   "source": [
    "## Eercicio 4 - analizador de texto\n",
    "Pedir al usuario cadenas de texto hasta que pongan 'para'\n",
    "\n",
    "En cada iteración debe de mostrar las estadísticas de:\n",
    "* Vocales analizadas \n",
    "* Tamaño medio de las palabras\n",
    "* Frase más larga \n",
    "* Número de vocales medio por frase"
   ]
  },
  {
   "cell_type": "code",
   "execution_count": null,
   "id": "cb2778b7-b980-473f-bd71-996cc5fbe786",
   "metadata": {},
   "outputs": [],
   "source": []
  },
  {
   "cell_type": "markdown",
   "id": "7a4467fa-cabb-46dd-a50b-d1e2ed10cad9",
   "metadata": {},
   "source": [
    "## Ejercicio 5 - Comprobador de años bisiestos\n",
    "\n",
    "Hacer una función que compruebe si un año es bisiesto o no.\n",
    "\n",
    "Pista:\n",
    "* Los años bisiestos se dividen en dos grupos:\n",
    "* * Años seculares: divisibles entre 4 y no por 100\n",
    "* * Años no seculares: divisibles por 400\n",
    "\n",
    "Mas info en: [años bisiestos](https://es.wikipedia.org/wiki/A%C3%B1o_bisiesto)"
   ]
  },
  {
   "cell_type": "code",
   "execution_count": null,
   "id": "9d1ac3c0-2a5c-42c5-afb3-7d6699a28fee",
   "metadata": {},
   "outputs": [],
   "source": []
  },
  {
   "cell_type": "markdown",
   "id": "07484145-b039-4ed0-8ba8-e5711595d07a",
   "metadata": {},
   "source": [
    "## Ejercicio 6 - Cálculo de factoriales n!\n",
    "\n",
    "Escribir una función que reciba un número entero positivo y devuelva su factorial\n",
    "\n",
    "n! = n * n-1 * n-2 ... * 1"
   ]
  },
  {
   "cell_type": "code",
   "execution_count": null,
   "id": "8e449591-9fc9-4818-bb1b-d88d6fcaf298",
   "metadata": {},
   "outputs": [],
   "source": []
  },
  {
   "cell_type": "markdown",
   "id": "de8bd346-4712-40e9-93a1-a66b8a44ba7e",
   "metadata": {},
   "source": [
    "## Ejercicio 7 - Años bisiestos de una persona\n",
    "\n",
    "Hacer una función que sabiendo la edad de una persona, devuelva cuantos años bisiestos ha vivido."
   ]
  },
  {
   "cell_type": "code",
   "execution_count": null,
   "id": "bec44a98-e288-485c-851b-f7d5385b7cf7",
   "metadata": {},
   "outputs": [],
   "source": []
  },
  {
   "cell_type": "markdown",
   "id": "f0d9a669-b9c4-4eb9-9275-a0f9b406e7c7",
   "metadata": {
    "tags": []
   },
   "source": [
    "## Ejercicio 8 - Análisis estadístico\n",
    "\n",
    "Escribir una función que reciba una lista de valores numéricos y devuelva un diccionario con las claves y valores siguientes:\n",
    "* total: suma de todos los elementos\n",
    "* avg: media de todos los elementos"
   ]
  },
  {
   "cell_type": "code",
   "execution_count": null,
   "id": "49110bba-a5a1-4a69-804f-d2f8e09d703b",
   "metadata": {},
   "outputs": [],
   "source": []
  },
  {
   "cell_type": "markdown",
   "id": "a378347e-b353-4bc2-aa80-874785d5eb89",
   "metadata": {
    "tags": []
   },
   "source": [
    "## Ejercicio 9 - Estadística pro\n",
    "Calcular los siguientes valores:\n",
    "* var: varianza de los elementos\n",
    "* mode: moda\n",
    "* des: desviación típica\n",
    "* q10: serían los 10 quantiles (deciles)\n",
    "* q3: serían la división en 3 quantiles\n",
    "    \n",
    "Se puede hacer este ejercicio usando las fórmulas de cada operación pedida o usando la librería: [statistics](https://docs.python.org/es/3/library/statistics.html)"
   ]
  },
  {
   "cell_type": "code",
   "execution_count": null,
   "id": "a2f2b6e4-9069-4958-8101-ee1e3c4ff399",
   "metadata": {},
   "outputs": [],
   "source": []
  },
  {
   "cell_type": "markdown",
   "id": "bd91c279-8cc6-453e-9b3c-8bb2a2168aa6",
   "metadata": {},
   "source": [
    "## Ejercicio 10 - Mostrar las piezas de ajedrez\n",
    "\n",
    "Buscar en unicode los valores de las piezas de ajedrez y pintarlas en python\n",
    "\n",
    "**Links de interes:** \n",
    "\n",
    "* https://charbase.com/2654-unicode-white-chess-king\n",
    "* https://charbase.com/265f-unicode-black-chess-pawn\n",
    "\n",
    "\n",
    "Pistas: \n",
    "* int('2654', base=16) == 9812\n",
    "* chr(9812) == '♔'"
   ]
  },
  {
   "cell_type": "code",
   "execution_count": null,
   "id": "3ecd485e-d363-4878-aa7f-b0a2d9ad52ab",
   "metadata": {},
   "outputs": [],
   "source": []
  },
  {
   "cell_type": "markdown",
   "id": "9faa68f8-d0cc-46c7-9548-52504a47c656",
   "metadata": {},
   "source": [
    "## Ejercicio 11 - Construir una baraja de cartas\n",
    "\n",
    "Buscar en unicode los valores de los simbolos en la baraja de cartas americana y construir un mazo de las mismas:\n",
    "* Debe contener los números del 2 al 10 y despues A, J, Q y K\n",
    "* Por cada número debe de haber una carta de: picas, corazones, rombos y treboles\n",
    "\n",
    "Ejemplos: A♠, 2♠, 3♠, ... K♠\n",
    "\n",
    "Links de interes:\n",
    "* https://www.compart.com/en/unicode/block/U+1F0A0\n",
    "* https://unicode-table.com/en/sets/suits-of-the-cards/\n",
    "\n",
    "Pista:\n",
    "* chr(int('2660', base=16)) == '♠'\n",
    "* chr(int('1F0A1', base=16)) == '🂡'"
   ]
  },
  {
   "cell_type": "code",
   "execution_count": null,
   "id": "d37f1fc1-d262-4e4e-9aca-c9050287c70f",
   "metadata": {},
   "outputs": [],
   "source": []
  },
  {
   "cell_type": "markdown",
   "id": "4c3a1f27-cb18-4d1f-b634-10df6fadd81f",
   "metadata": {},
   "source": [
    "## Ejercicio 12 - Repartir cartas barajadas\n",
    "\n",
    "Repartir las cartas barajadas entre 4 jugadores\n",
    "\n",
    "Pista: \n",
    "* Mirar random.shuffle"
   ]
  },
  {
   "cell_type": "code",
   "execution_count": null,
   "id": "95cf7c92-68b7-4f2e-ba1b-6c5bf77fb75f",
   "metadata": {},
   "outputs": [],
   "source": []
  },
  {
   "cell_type": "markdown",
   "id": "9e9c530d-3ade-4663-a60a-5433a2a7313d",
   "metadata": {},
   "source": [
    "## Ejercicio 13 - Gestor de menus\n",
    "\n",
    "Teniendo un lista de productos en un menu como primeros, segundos, postres y bebidas.\n",
    "\n",
    "Hacer un programa que devuelva:\n",
    "* El menú más barato\n",
    "* El menú más caro\n",
    "* El menú con más calorias\n",
    "* El menú con menos calorias"
   ]
  },
  {
   "cell_type": "code",
   "execution_count": 117,
   "id": "97e669e7-35d4-4dfa-a361-37682e915b8f",
   "metadata": {},
   "outputs": [],
   "source": [
    "productos = {\n",
    "    'primeros': [\n",
    "        {'ensalada marinera': {'calorias': 89, 'precio': 1.1}},\n",
    "        {'salmorejo': {'calorias': 152, 'precio': 2.4}},\n",
    "        {'croquetas de bacalo': {'calorias': 312, 'precio': 3.7}},\n",
    "        {'lentejas': {'calorias': 170, 'precio': 2.2}},\n",
    "    ],\n",
    "    'segundos':[\n",
    "        {'pollo asado': {'calorias': 110, 'precio': 1.7}},\n",
    "        {'arroz': {'calorias': 197, 'precio': 2.8}},\n",
    "        {'lasaña': {'calorias': 298, 'precio': 2.9}},\n",
    "        {'merluza': {'calorias': 124, 'precio': 3.5}},\n",
    "    ],\n",
    "    'postres':[\n",
    "        {'cafe': {'calorias': 10, 'precio': 0.5}},\n",
    "        {'cocacola': {'calorias': 60, 'precio': 1.2}},\n",
    "        {'agua': {'calorias': 2, 'precio': 0.7}},\n",
    "        {'nestea': {'calorias': 5, 'precio': 1.5}},\n",
    "    ]\n",
    "}"
   ]
  },
  {
   "cell_type": "markdown",
   "id": "ab24a2a9-9839-44c7-9399-983866d3171e",
   "metadata": {},
   "source": [
    "## Ejercicio 14 - Gestor de menus programa\n",
    "\n",
    "Hacer un programa que pregunte al usuario qué desea tomar con las opciones disponibles\n",
    "Una vez terminada la selección se le muestra al usuario lo que ha elegido y la cantidad de calorias totales y por cada producto elegido (esto es similar al precio de cada cosa :D )"
   ]
  },
  {
   "cell_type": "markdown",
   "id": "059b5903-895a-45e9-8520-684ae8420fd6",
   "metadata": {},
   "source": []
  },
  {
   "cell_type": "markdown",
   "id": "b8d0902f-eb8f-49f9-b397-f9d484dd696a",
   "metadata": {},
   "source": [
    "## Ejercicio 15 - Máquina expendedora\n",
    "\n",
    "Teniendo una lista de productos como:\n",
    "```python\n",
    "productos = [\n",
    "    ('Cocacola', 'Lata de cocacola', 1.2, 3)\n",
    "    ('Fanta', 'Lata de fanta', 1, 2)\n",
    "    ('Café frio', 'Café energizante frio', 0.5, 1)\n",
    "    ('Bizcocho', 'Rico bizcocho de chocolate', 2.2, 4)\n",
    "    ('Chocolatina', 'Barrita de chocolate azucarada', 2.5, 1)\n",
    "]\n",
    "```\n",
    "\n",
    "Crear un programa que pida al usuario un artículo de la lista y guarde cuantos ha vendido.\n",
    "Si no quedan articulos debe de decir que el artículo está agotado y que pida otra opción.\n",
    "\n",
    "Si el usuario introduce `parar` debe de parar la ejecución y mostrar por pantalla los productos vendidos, el total de beneficio bruto, y suponiendo que se obtiene un 35% de beneficio por cada producto, calcular el beneficio final\n",
    "\n"
   ]
  },
  {
   "cell_type": "code",
   "execution_count": null,
   "id": "c1797cbb-ce2a-4b23-82f2-2e4c078b1e53",
   "metadata": {},
   "outputs": [],
   "source": []
  }
 ],
 "metadata": {
  "kernelspec": {
   "display_name": "Python 3",
   "language": "python",
   "name": "python3"
  },
  "language_info": {
   "codemirror_mode": {
    "name": "ipython",
    "version": 3
   },
   "file_extension": ".py",
   "mimetype": "text/x-python",
   "name": "python",
   "nbconvert_exporter": "python",
   "pygments_lexer": "ipython3",
   "version": "3.8.8"
  }
 },
 "nbformat": 4,
 "nbformat_minor": 5
}
