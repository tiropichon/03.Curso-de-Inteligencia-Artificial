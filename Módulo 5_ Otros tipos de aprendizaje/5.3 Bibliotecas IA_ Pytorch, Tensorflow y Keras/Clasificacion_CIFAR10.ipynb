{
  "nbformat": 4,
  "nbformat_minor": 0,
  "metadata": {
    "colab": {
      "name": "Clasificacion_CIFAR10",
      "provenance": []
    },
    "kernelspec": {
      "name": "python3",
      "display_name": "Python 3"
    },
    "language_info": {
      "name": "python"
    },
    "accelerator": "GPU"
  },
  "cells": [
    {
      "cell_type": "code",
      "metadata": {
        "id": "PcPVLeJAD96t"
      },
      "source": [
        "import torch\n",
        "import torchvision\n",
        "import torchvision.transforms as transforms"
      ],
      "execution_count": 11,
      "outputs": []
    },
    {
      "cell_type": "code",
      "metadata": {
        "colab": {
          "base_uri": "https://localhost:8080/"
        },
        "id": "X7SrCFrKbJ6O",
        "outputId": "2c3830c8-fb9a-43d0-8638-429ddd7e8062"
      },
      "source": [
        "# Asignamos cuda o CPU una variable\n",
        "device = torch.device(\"cuda:0\" if torch.cuda.is_available() else \"cpu\")\n",
        "print(device)"
      ],
      "execution_count": 12,
      "outputs": [
        {
          "output_type": "stream",
          "text": [
            "cuda:0\n"
          ],
          "name": "stdout"
        }
      ]
    },
    {
      "cell_type": "code",
      "metadata": {
        "colab": {
          "base_uri": "https://localhost:8080/"
        },
        "id": "5J-_ImFHGK0i",
        "outputId": "a1561ddd-7801-4be8-ed84-8928b6788ef1"
      },
      "source": [
        "transform = transforms.ToTensor()\n",
        "\n",
        "trainset = torchvision.datasets.CIFAR10(root='./data', train=True, download=True, transform=transform)\n",
        "testset = torchvision.datasets.CIFAR10(root='./data', train=False, download=True, transform=transform)"
      ],
      "execution_count": 13,
      "outputs": [
        {
          "output_type": "stream",
          "text": [
            "Files already downloaded and verified\n",
            "Files already downloaded and verified\n"
          ],
          "name": "stdout"
        }
      ]
    },
    {
      "cell_type": "code",
      "metadata": {
        "id": "X38dYKxxGnQE"
      },
      "source": [
        "trainloader = torch.utils.data.DataLoader(trainset, batch_size=5, shuffle=True, num_workers=2)\n",
        "testloader = torch.utils.data.DataLoader(testset, batch_size=5, shuffle=True, num_workers=2)\n",
        "classes = ('plane', 'car', 'bird', 'cat',\n",
        "           'deer', 'dog', 'frog', 'horse', 'ship', 'truck')"
      ],
      "execution_count": 14,
      "outputs": []
    },
    {
      "cell_type": "code",
      "metadata": {
        "colab": {
          "base_uri": "https://localhost:8080/"
        },
        "id": "y_2ar4s5J_Hq",
        "outputId": "154b2ded-d88e-483d-fcee-2fcbe914e618"
      },
      "source": [
        "print(trainset[0][0])"
      ],
      "execution_count": 15,
      "outputs": [
        {
          "output_type": "stream",
          "text": [
            "tensor([[[0.2314, 0.1686, 0.1961,  ..., 0.6196, 0.5961, 0.5804],\n",
            "         [0.0627, 0.0000, 0.0706,  ..., 0.4824, 0.4667, 0.4784],\n",
            "         [0.0980, 0.0627, 0.1922,  ..., 0.4627, 0.4706, 0.4275],\n",
            "         ...,\n",
            "         [0.8157, 0.7882, 0.7765,  ..., 0.6275, 0.2196, 0.2078],\n",
            "         [0.7059, 0.6784, 0.7294,  ..., 0.7216, 0.3804, 0.3255],\n",
            "         [0.6941, 0.6588, 0.7020,  ..., 0.8471, 0.5922, 0.4824]],\n",
            "\n",
            "        [[0.2431, 0.1804, 0.1882,  ..., 0.5176, 0.4902, 0.4863],\n",
            "         [0.0784, 0.0000, 0.0314,  ..., 0.3451, 0.3255, 0.3412],\n",
            "         [0.0941, 0.0275, 0.1059,  ..., 0.3294, 0.3294, 0.2863],\n",
            "         ...,\n",
            "         [0.6667, 0.6000, 0.6314,  ..., 0.5216, 0.1216, 0.1333],\n",
            "         [0.5451, 0.4824, 0.5647,  ..., 0.5804, 0.2431, 0.2078],\n",
            "         [0.5647, 0.5059, 0.5569,  ..., 0.7216, 0.4627, 0.3608]],\n",
            "\n",
            "        [[0.2471, 0.1765, 0.1686,  ..., 0.4235, 0.4000, 0.4039],\n",
            "         [0.0784, 0.0000, 0.0000,  ..., 0.2157, 0.1961, 0.2235],\n",
            "         [0.0824, 0.0000, 0.0314,  ..., 0.1961, 0.1961, 0.1647],\n",
            "         ...,\n",
            "         [0.3765, 0.1333, 0.1020,  ..., 0.2745, 0.0275, 0.0784],\n",
            "         [0.3765, 0.1647, 0.1176,  ..., 0.3686, 0.1333, 0.1333],\n",
            "         [0.4549, 0.3686, 0.3412,  ..., 0.5490, 0.3294, 0.2824]]])\n"
          ],
          "name": "stdout"
        }
      ]
    },
    {
      "cell_type": "code",
      "metadata": {
        "colab": {
          "base_uri": "https://localhost:8080/"
        },
        "id": "zA28IvUkEoux",
        "outputId": "54b1cbff-b9dc-46d8-ef23-3189add8e06b"
      },
      "source": [
        "import torch.nn as nn\n",
        "import torch.nn.functional as F\n",
        "\n",
        "class Net(nn.Module):\n",
        "\n",
        "  def __init__(self):\n",
        "    super(Net, self).__init__()\n",
        "\n",
        "    # Batch Normalization\n",
        "    self.batch1 = nn.BatchNorm2d(3)\n",
        "\n",
        "    # Capa de Dropout\n",
        "    self.dropout1 = nn.Dropout(0.2)\n",
        "    self.dropout2 = nn.Dropout(0.4)\n",
        "\n",
        "    # Convoluciones\n",
        "    self.conv1 = nn.Conv2d(3, 12, 5)  # Salida de 28\n",
        "    self.conv2 = nn.Conv2d(12, 24, 3)  # Salida 12\n",
        "    self.conv3 = nn.Conv2d(24, 30, 3)  # Salida 4\n",
        "\n",
        "    # Capa Lineal\n",
        "    self.fc1 = nn.Linear(30 * 2 * 2, 100)\n",
        "    self.fc2 = nn.Linear(100, 80)\n",
        "    self.fc3 = nn.Linear(80, 40)\n",
        "    self.fc4 = nn.Linear(40, 10)\n",
        "\n",
        "  def forward(self, x):\n",
        "    # Batch\n",
        "    x = self.batch1(x)\n",
        "    x = self.conv1(x)\n",
        "    x = torch.tanh(x)\n",
        "    x = F.max_pool2d(x, (2,2))\n",
        "\n",
        "    x = self.conv2(x)\n",
        "    x = torch.tanh(x)\n",
        "    x = F.max_pool2d(x, (2,2))\n",
        "\n",
        "    x = self.dropout1(x)\n",
        "    x = self.conv3(x)\n",
        "    x = torch.tanh(x)\n",
        "    x = F.max_pool2d(x, (2,2))\n",
        "\n",
        "    x = x.view(-1, 30 * 2 * 2)\n",
        "    x = self.fc1(x)\n",
        "    x = torch.tanh(x)\n",
        "\n",
        "    x = self.dropout2(x)\n",
        "    x = self.fc2(x)\n",
        "    x = torch.tanh(x)\n",
        "\n",
        "    x = self.fc3(x)\n",
        "    x = torch.tanh(x)\n",
        "\n",
        "    x = self.fc4(x)\n",
        "    return x\n",
        "\n",
        "net = Net()\n",
        "net.to(device)\n",
        "print(net)"
      ],
      "execution_count": 16,
      "outputs": [
        {
          "output_type": "stream",
          "text": [
            "Net(\n",
            "  (batch1): BatchNorm2d(3, eps=1e-05, momentum=0.1, affine=True, track_running_stats=True)\n",
            "  (dropout1): Dropout(p=0.2, inplace=False)\n",
            "  (dropout2): Dropout(p=0.4, inplace=False)\n",
            "  (conv1): Conv2d(3, 12, kernel_size=(5, 5), stride=(1, 1))\n",
            "  (conv2): Conv2d(12, 24, kernel_size=(3, 3), stride=(1, 1))\n",
            "  (conv3): Conv2d(24, 30, kernel_size=(3, 3), stride=(1, 1))\n",
            "  (fc1): Linear(in_features=120, out_features=100, bias=True)\n",
            "  (fc2): Linear(in_features=100, out_features=80, bias=True)\n",
            "  (fc3): Linear(in_features=80, out_features=40, bias=True)\n",
            "  (fc4): Linear(in_features=40, out_features=10, bias=True)\n",
            ")\n"
          ],
          "name": "stdout"
        }
      ]
    },
    {
      "cell_type": "code",
      "metadata": {
        "id": "sbfYr_3WMnIz"
      },
      "source": [
        "import torch.optim as optim\n",
        "\n",
        "criterion = nn.CrossEntropyLoss()\n",
        "optimizer = optim.SGD(net.parameters(), lr=0.001, momentum=0.9)"
      ],
      "execution_count": 17,
      "outputs": []
    },
    {
      "cell_type": "code",
      "metadata": {
        "colab": {
          "base_uri": "https://localhost:8080/"
        },
        "id": "ZKme3pTkNabc",
        "outputId": "658ae91a-7e9e-4316-fed2-8379970fbd2a"
      },
      "source": [
        "from timeit import default_timer as timer\n",
        "# Inicializar la pérdida = loss\n",
        "# Coger las imágenes de entrenamiento\n",
        "# Inicializar el gradiente\n",
        "# Forward + Backward + optimize\n",
        "start_total = timer()\n",
        "for epoch in range(5):\n",
        "  running_loss = 0.0\n",
        "  start = timer()\n",
        "\n",
        "  print(f\"Vamos por la epoch: {epoch}\")\n",
        "  for i, data in enumerate(trainloader, 0):\n",
        "    \n",
        "    inputs, labels = data\n",
        "\n",
        "    optimizer.zero_grad()\n",
        "\n",
        "    # Pase para delante\n",
        "    output = net(inputs.to(device))\n",
        "    loss = criterion(output, labels.to(device))\n",
        "    loss.backward()\n",
        "    optimizer.step()\n",
        "\n",
        "    running_loss += loss.item()\n",
        "\n",
        "    if i % 2000 == 1999:\n",
        "      print(f\"Vamos por la iteración {i + 1} la pérdida es {loss:.2f} y la total es {running_loss:.2f}\")\n",
        "      end = timer()\n",
        "      print(f\"Ha pasado {(end - start):.2f} segundos\")\n",
        "      start = timer()\n",
        "\n",
        "end_total = timer()\n",
        "print(f\"Finish Training, el modelo se ha entrenado en {(end_total - start_total):.2f} segundos\")"
      ],
      "execution_count": 19,
      "outputs": [
        {
          "output_type": "stream",
          "text": [
            "Vamos por la epoch: 0\n"
          ],
          "name": "stdout"
        },
        {
          "output_type": "stream",
          "text": [
            "/usr/local/lib/python3.7/dist-packages/torch/nn/functional.py:1794: UserWarning: nn.functional.tanh is deprecated. Use torch.tanh instead.\n",
            "  warnings.warn(\"nn.functional.tanh is deprecated. Use torch.tanh instead.\")\n"
          ],
          "name": "stderr"
        },
        {
          "output_type": "stream",
          "text": [
            "Vamos por la iteración 2000 la pérdida es 2.25 y la total es 3877.39\n",
            "Ha pasado 8.76 segundos\n",
            "Vamos por la iteración 4000 la pérdida es 1.93 y la total es 7337.60\n",
            "Ha pasado 8.75 segundos\n",
            "Vamos por la iteración 6000 la pérdida es 1.38 y la total es 10671.91\n",
            "Ha pasado 8.64 segundos\n",
            "Vamos por la iteración 8000 la pérdida es 2.26 y la total es 13828.07\n",
            "Ha pasado 8.79 segundos\n",
            "Vamos por la iteración 10000 la pérdida es 1.42 y la total es 16896.55\n",
            "Ha pasado 8.67 segundos\n",
            "Vamos por la epoch: 1\n",
            "Vamos por la iteración 2000 la pérdida es 0.95 y la total es 2985.40\n",
            "Ha pasado 8.63 segundos\n",
            "Vamos por la iteración 4000 la pérdida es 1.07 y la total es 5948.53\n",
            "Ha pasado 8.78 segundos\n",
            "Vamos por la iteración 6000 la pérdida es 1.53 y la total es 8856.56\n",
            "Ha pasado 8.59 segundos\n",
            "Vamos por la iteración 8000 la pérdida es 1.14 y la total es 11717.15\n",
            "Ha pasado 8.68 segundos\n",
            "Vamos por la iteración 10000 la pérdida es 2.34 y la total es 14545.35\n",
            "Ha pasado 8.85 segundos\n",
            "Vamos por la epoch: 2\n",
            "Vamos por la iteración 2000 la pérdida es 1.43 y la total es 2762.15\n",
            "Ha pasado 8.71 segundos\n",
            "Vamos por la iteración 4000 la pérdida es 0.51 y la total es 5458.24\n",
            "Ha pasado 8.69 segundos\n",
            "Vamos por la iteración 6000 la pérdida es 0.90 y la total es 8175.30\n",
            "Ha pasado 8.64 segundos\n",
            "Vamos por la iteración 8000 la pérdida es 1.65 y la total es 10828.73\n",
            "Ha pasado 8.68 segundos\n",
            "Vamos por la iteración 10000 la pérdida es 0.80 y la total es 13485.03\n",
            "Ha pasado 8.84 segundos\n",
            "Vamos por la epoch: 3\n",
            "Vamos por la iteración 2000 la pérdida es 0.95 y la total es 2568.92\n",
            "Ha pasado 8.56 segundos\n",
            "Vamos por la iteración 4000 la pérdida es 0.80 y la total es 5098.60\n",
            "Ha pasado 8.67 segundos\n",
            "Vamos por la iteración 6000 la pérdida es 1.05 y la total es 7683.41\n",
            "Ha pasado 8.72 segundos\n",
            "Vamos por la iteración 8000 la pérdida es 0.99 y la total es 10202.88\n",
            "Ha pasado 8.76 segundos\n",
            "Vamos por la iteración 10000 la pérdida es 0.57 y la total es 12733.54\n",
            "Ha pasado 8.76 segundos\n",
            "Vamos por la epoch: 4\n",
            "Vamos por la iteración 2000 la pérdida es 1.53 y la total es 2435.27\n",
            "Ha pasado 8.54 segundos\n",
            "Vamos por la iteración 4000 la pérdida es 1.19 y la total es 4921.70\n",
            "Ha pasado 8.84 segundos\n",
            "Vamos por la iteración 6000 la pérdida es 2.61 y la total es 7416.95\n",
            "Ha pasado 8.73 segundos\n",
            "Vamos por la iteración 8000 la pérdida es 1.41 y la total es 9844.38\n",
            "Ha pasado 8.66 segundos\n",
            "Vamos por la iteración 10000 la pérdida es 1.02 y la total es 12277.98\n",
            "Ha pasado 8.82 segundos\n",
            "Finish Training, el modelo se ha entrenado en 218.01 segundos\n"
          ],
          "name": "stdout"
        }
      ]
    },
    {
      "cell_type": "code",
      "metadata": {
        "id": "qUc3wKJNT_HT"
      },
      "source": [
        "imagen = iter(testloader)"
      ],
      "execution_count": 12,
      "outputs": []
    },
    {
      "cell_type": "code",
      "metadata": {
        "id": "id9YadUgUHeT"
      },
      "source": [
        "input, label = imagen.next()"
      ],
      "execution_count": 13,
      "outputs": []
    },
    {
      "cell_type": "code",
      "metadata": {
        "colab": {
          "base_uri": "https://localhost:8080/"
        },
        "id": "uu4JEFHnb03r",
        "outputId": "ab8d4125-f752-4b75-c0e3-3ed5f2273cf3"
      },
      "source": [
        "input.to(device)\n",
        "label.to(device)"
      ],
      "execution_count": 109,
      "outputs": [
        {
          "output_type": "execute_result",
          "data": {
            "text/plain": [
              "tensor([1, 0, 4, 7, 0], device='cuda:0')"
            ]
          },
          "metadata": {
            "tags": []
          },
          "execution_count": 109
        }
      ]
    },
    {
      "cell_type": "code",
      "metadata": {
        "colab": {
          "base_uri": "https://localhost:8080/"
        },
        "id": "CTBvvIm5ULIT",
        "outputId": "67d30916-698c-4fff-bea6-924c9e57b146"
      },
      "source": [
        "label"
      ],
      "execution_count": 93,
      "outputs": [
        {
          "output_type": "execute_result",
          "data": {
            "text/plain": [
              "tensor([5, 4, 9, 9, 0])"
            ]
          },
          "metadata": {
            "tags": []
          },
          "execution_count": 93
        }
      ]
    },
    {
      "cell_type": "code",
      "metadata": {
        "colab": {
          "base_uri": "https://localhost:8080/"
        },
        "id": "mB2HMg9wUNtT",
        "outputId": "0f179956-b544-4332-ebf0-256e0603e3f2"
      },
      "source": [
        "net(input.to(device))"
      ],
      "execution_count": 15,
      "outputs": [
        {
          "output_type": "stream",
          "text": [
            "/usr/local/lib/python3.7/dist-packages/torch/nn/functional.py:718: UserWarning: Named tensors and all their associated APIs are an experimental feature and subject to change. Please do not use them for anything important until they are released as stable. (Triggered internally at  /pytorch/c10/core/TensorImpl.h:1156.)\n",
            "  return torch.max_pool2d(input, kernel_size, stride, padding, dilation, ceil_mode)\n"
          ],
          "name": "stderr"
        },
        {
          "output_type": "execute_result",
          "data": {
            "text/plain": [
              "tensor([[-0.0075, -0.0672, -0.1388, -0.0525,  0.0232, -0.0518, -0.0743,  0.1111,\n",
              "          0.0402,  0.0131],\n",
              "        [ 0.0077, -0.0677, -0.1270, -0.0521,  0.0270, -0.0501, -0.0856,  0.1165,\n",
              "          0.0623,  0.0202],\n",
              "        [-0.0239, -0.0642, -0.1442, -0.0386,  0.0302, -0.0441, -0.0891,  0.1254,\n",
              "          0.0261,  0.0191],\n",
              "        [-0.0147, -0.0733, -0.1250, -0.0582,  0.0240, -0.0397, -0.0726,  0.1127,\n",
              "          0.0370,  0.0160],\n",
              "        [ 0.0007, -0.0702, -0.1324, -0.0623,  0.0263, -0.0456, -0.0883,  0.1109,\n",
              "          0.0474,  0.0095]], device='cuda:0', grad_fn=<AddmmBackward>)"
            ]
          },
          "metadata": {
            "tags": []
          },
          "execution_count": 15
        }
      ]
    },
    {
      "cell_type": "code",
      "metadata": {
        "colab": {
          "base_uri": "https://localhost:8080/"
        },
        "id": "kgYv3v0FXv8L",
        "outputId": "f44b20e3-b571-41af-fa0c-e78d34d58306"
      },
      "source": [
        "torch.max(net(input), 1)"
      ],
      "execution_count": 95,
      "outputs": [
        {
          "output_type": "execute_result",
          "data": {
            "text/plain": [
              "torch.return_types.max(values=tensor([2.2845, 4.0265, 8.0301, 7.8146, 3.1987], grad_fn=<MaxBackward0>), indices=tensor([3, 7, 9, 9, 8]))"
            ]
          },
          "metadata": {
            "tags": []
          },
          "execution_count": 95
        }
      ]
    },
    {
      "cell_type": "code",
      "metadata": {
        "colab": {
          "base_uri": "https://localhost:8080/"
        },
        "id": "1KUDu0_aUSn7",
        "outputId": "5f659443-785b-48bf-d86b-bdfb535289be"
      },
      "source": [
        "label"
      ],
      "execution_count": 69,
      "outputs": [
        {
          "output_type": "execute_result",
          "data": {
            "text/plain": [
              "tensor([9, 2, 0, 5, 5])"
            ]
          },
          "metadata": {
            "tags": []
          },
          "execution_count": 69
        }
      ]
    },
    {
      "cell_type": "code",
      "metadata": {
        "colab": {
          "base_uri": "https://localhost:8080/"
        },
        "id": "NY__zPYgX22j",
        "outputId": "61975f90-edb2-4963-9390-d051ca6b9635"
      },
      "source": [
        "correct = 0\n",
        "total = 0\n",
        "with torch.no_grad():\n",
        "    for data in testloader:\n",
        "        images, labels = data\n",
        "        outputs = net(images.to(device))\n",
        "        # torch.max nos dice cuál es la clase dominante (la de mayor probabildad del vector de salida)\n",
        "        _, predicted = torch.max(outputs.data, 1)\n",
        "        total += labels.size(0)\n",
        "        correct += (predicted == labels.to(device)).sum().item()\n",
        "\n",
        "print('Accuracy of the network on the 10000 test images: %d %%' % (\n",
        "    100 * correct / total))"
      ],
      "execution_count": 20,
      "outputs": [
        {
          "output_type": "stream",
          "text": [
            "/usr/local/lib/python3.7/dist-packages/torch/nn/functional.py:1794: UserWarning: nn.functional.tanh is deprecated. Use torch.tanh instead.\n",
            "  warnings.warn(\"nn.functional.tanh is deprecated. Use torch.tanh instead.\")\n"
          ],
          "name": "stderr"
        },
        {
          "output_type": "stream",
          "text": [
            "Accuracy of the network on the 10000 test images: 55 %\n"
          ],
          "name": "stdout"
        }
      ]
    }
  ]
}