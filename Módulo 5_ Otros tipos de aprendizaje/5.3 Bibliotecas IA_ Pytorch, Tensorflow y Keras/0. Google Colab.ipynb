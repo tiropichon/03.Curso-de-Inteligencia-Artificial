{
 "cells": [
  {
   "cell_type": "markdown",
   "metadata": {
    "colab_type": "text",
    "id": "ByT_fabu8ze8"
   },
   "source": [
    "# Colaboratory\n",
    "\n",
    "**Colaboratory** (usualmente abreviado **Colab**) es la versión de Google de los útiles cuadernos interactivos de computación **Jupyter**.\n",
    "\n",
    "Un cuaderno **Colaboratory / Jupyter** está compuesto por una serie de celdas que pueden contener documentación (como la presente celda) o código Python ejecutable. Estas celdas se pueden ejecutar una a una o todas de golpe. La característica más destacable de los mismos es que el contenido de la celda puede ser modificado y ejecutado tantas veces como se quiera.\n",
    "\n",
    "Estos cuadernos son ideales para, fundamentalmente, dos tareas:\n",
    "\n",
    "- crear flujos de trabajo de ciencia de datos interactivos y reproducibles, combinando computación con visualización;\n",
    "\n",
    "- enseñar de forma eficaz cómo funcionan programas Python.\n",
    "\n",
    "Son una poderosa herramienta didáctica, ya que permiten combinar explicaciones (incluyendo imágenes, por ejemplo, o fórmulas matemáticas) con pequeñas unidades de código modificables que permiten al lector experimentar con el código en un entorno seguro."
   ]
  },
  {
   "cell_type": "markdown",
   "metadata": {
    "colab_type": "text",
    "id": "gmkerLSU_rGp"
   },
   "source": [
    "# Ejecución de código Python\n",
    "\n",
    "En **Colaboratory**, el código se ejecuta en una pequeña instancia Linux que Google corre en su nube **Google Cloud**. Cada cuaderno, al ser ejecutada su primera celda de código, arranca una diminuta instancia de **Google Cloud** que ejecuta lo que se llama un **kernel Python**, es decir, un entorno de ejecución interactivo Python sobre el que se pueden ejecutar conjuntos arbitrarios de instrucciones. Estas instrucciones van modificando, por ejemplo con la creación de variables, la memoria del kernel, siendo capaz de llegar a soportar interesantes cargas de trabajo."
   ]
  },
  {
   "cell_type": "markdown",
   "metadata": {
    "colab_type": "text",
    "id": "71qf_ogl_z7l"
   },
   "source": [
    "# Atajos de teclado\n",
    "\n",
    "Para sacarle partido a **Colaboratory**, es interesante conocer algunos atajos de teclado:\n",
    "\n",
    "- **cursor arriba / abajo:** movimiento entre celdas;\n",
    "\n",
    "- **mayúsculas + enter:** ejecuta la celda actual y pasa a la siguiente;\n",
    "\n",
    "- **alt + enter:** ejecuta la celda actual y crea una nueva celda de código a continuación."
   ]
  },
  {
   "cell_type": "markdown",
   "metadata": {
    "colab_type": "text",
    "id": "D_rLypx-_41A"
   },
   "source": [
    "# Celdas de código\n",
    "\n",
    "A continuación se muestra una celda que contiene código Python, en este caso, la asignación de un valor a la variable **a**:"
   ]
  },
  {
   "cell_type": "code",
   "execution_count": null,
   "metadata": {
    "colab": {},
    "colab_type": "code",
    "id": "ZmMQTfpH_LV7"
   },
   "outputs": [],
   "source": [
    "a = 0"
   ]
  },
  {
   "cell_type": "markdown",
   "metadata": {
    "colab_type": "text",
    "id": "-Pa4SSuUAD57"
   },
   "source": [
    "esta celda muestra el resultado de una expresión. La celda anterior introdujo en la memoria del kernel la variable **a** a valor **0**. Vamos a consultar ese valor en memoria:"
   ]
  },
  {
   "cell_type": "code",
   "execution_count": null,
   "metadata": {
    "colab": {},
    "colab_type": "code",
    "id": "qsZT_pfj_Jai"
   },
   "outputs": [],
   "source": [
    "a"
   ]
  },
  {
   "cell_type": "markdown",
   "metadata": {
    "colab_type": "text",
    "id": "B8BYV8t5AT68"
   },
   "source": [
    "podemos ejecutar expresiones que alteran los objetos almacenados en memoria:"
   ]
  },
  {
   "cell_type": "code",
   "execution_count": null,
   "metadata": {
    "colab": {},
    "colab_type": "code",
    "id": "U1yfqJON_J8a"
   },
   "outputs": [],
   "source": [
    "a = a + 1\n",
    "\n",
    "a"
   ]
  },
  {
   "cell_type": "markdown",
   "metadata": {
    "colab_type": "text",
    "id": "qfyrG_FAAd7i"
   },
   "source": [
    "Si la celda anterior se ejecuta varias veces, podremos comprobar cómo el valor de la variable **a** va cambiando con cada ejecución. Esto es así porque el kernel ejecuta varias veces la misma instrucción, alterando sucesivamente el valor de la variable.\n",
    "\n",
    "Como se puede comprobar, una celda no tiene por qué limitarse a una única línea de código, y además puede alternar código de manipulación de datos con código de presentación de resultados:"
   ]
  },
  {
   "cell_type": "code",
   "execution_count": null,
   "metadata": {
    "colab": {},
    "colab_type": "code",
    "id": "XKWRYAk9_VWM"
   },
   "outputs": [],
   "source": [
    "b = 10\n",
    "\n",
    "c = a + b\n",
    "\n",
    "c"
   ]
  },
  {
   "cell_type": "markdown",
   "metadata": {
    "colab_type": "text",
    "id": "uWwkhRhfqGNr"
   },
   "source": [
    "Es importante destacar que, aunque las celdas no tengan que ser ejecutadas necesariamente en orden, muchas de ellas usarán datos que se han cargado en el kernel en celdas anteriores, por lo que al intentar ejecutarlas sin que esos datos estén cargados fallarán. Por ejemplo, en las celdas siguientes, la segunda puede ser ejecutada en cualquier momento porque no usa ningún dato que tenga que estar previamente en la memoria, incluso sin ejecutar la primera. Pero la tercera dará error si no se ha ejecutado la primera, puesto que usa datos definidos por ésta. En la mayoría de las ocasiones, a no ser que sean ejemplos muy triviales, los cuadernos se diseñan para ser ejecutados más o menos en orden:"
   ]
  },
  {
   "cell_type": "code",
   "execution_count": null,
   "metadata": {
    "colab": {},
    "colab_type": "code",
    "id": "nQxjKZYAqprM"
   },
   "outputs": [],
   "source": [
    "nuevo_dato = \"Soy un dato que se va a registrar en memoria\""
   ]
  },
  {
   "cell_type": "code",
   "execution_count": null,
   "metadata": {
    "colab": {},
    "colab_type": "code",
    "id": "cczn7POBqu36"
   },
   "outputs": [],
   "source": [
    "dato_cargado_en_esta_celda = 80\n",
    "\n",
    "dato_cargado_en_esta_celda + 100"
   ]
  },
  {
   "cell_type": "code",
   "execution_count": null,
   "metadata": {
    "colab": {},
    "colab_type": "code",
    "id": "ZBtCHXFaq4IP"
   },
   "outputs": [],
   "source": [
    "nuevo_dato + \", por eso puedo ser utilizado en otras celdas como esta\""
   ]
  },
  {
   "cell_type": "markdown",
   "metadata": {
    "colab_type": "text",
    "id": "nXRpsOy3C4En"
   },
   "source": [
    "# Uso de datos externos con Google Drive\n",
    "\n",
    "Existen muchas formas de usar datos externos en un cuaderno de **Colaboratory**, pero sin duda la más fácil de usar es alojar los datos en Google Drive. El usuario puede conectar sencillamente sus cuadernos a su cuenta de Google Drive y acceder a datos alojados en ella.\n",
    "\n",
    "Para ello, es necesario **montar** Google Drive sobre el sistema Linux en el que se ejecuta el kernel Python del cuaderno. Este proceso de montaje no es nada más que el proceso de \"inyectar\" el sistema de carpetas de Google Drive en un punto de montaje del sistema de ficheros de la instancia Linux, esto es, crear una carpeta en el sistema de ficheros Linux que corresponde con la raiz del sistema de ficheros de Google Drive. Es más fácil de lo que suena.\n",
    "\n",
    "Para llevar a cabo esta operación de montaje, vamos a seguir los pasos descritos a continuación.\n"
   ]
  },
  {
   "cell_type": "markdown",
   "metadata": {
    "colab_type": "text",
    "id": "62LWtyGtHU1i"
   },
   "source": [
    "## Copia de los datos a Google Drive\n",
    "\n",
    "Para que los cuadernos de demostración de los que consta la clase funcionen sin necesidad de ir haciendo cambios personalizados, lo ideal es que todos partamos del mismo entorno. Para ello, el primer paso va a ser abrir nuestra cuenta de Google Drive:\n",
    "\n",
    "![](https://gitlab.com/malkab/mlk-public-assets/raw/develop/didactica-python-remote_sensing_ml-images/010-google-drive-000.png)\n",
    "\n",
    "Entramos en ella y Google Drive debe presentar el aspecto de la siguiente figura. Fijaos bien en la parte de arriba, donde está la ruta a los datos. Esta debe ser:\n",
    "\n",
    "```\n",
    "My Drive > remote-sensing-data\n",
    "```\n",
    "\n",
    "![](https://gitlab.com/malkab/mlk-public-assets/raw/develop/didactica-python-remote_sensing_ml-images/010-google-drive-010.png)\n",
    "\n",
    "Una vez hecho esto ya estamos en disposición de acceder a los datos desde nuestros cuadernos. Para ello, hay que importar el módulo **drive** de la librería **google.colab** \n"
   ]
  },
  {
   "cell_type": "code",
   "execution_count": null,
   "metadata": {
    "colab": {},
    "colab_type": "code",
    "id": "ihCmdWNUpE7S"
   },
   "outputs": [],
   "source": [
    "from google.colab import drive"
   ]
  },
  {
   "cell_type": "markdown",
   "metadata": {
    "colab_type": "text",
    "id": "7wo9j1gXp06X"
   },
   "source": [
    "Ahora montamos el sistema de ficheros de Drive en la carpeta **/content/drive**. Al ejecutar esta celda, Google nos solicitará permiso para que este cuaderno se conecte a nuestro Drive. Sólo hay que seguir las instrucciones:"
   ]
  },
  {
   "cell_type": "code",
   "execution_count": null,
   "metadata": {
    "colab": {},
    "colab_type": "code",
    "id": "chI8bZ3kpapl"
   },
   "outputs": [],
   "source": [
    "drive.mount('/content/drive')"
   ]
  },
  {
   "cell_type": "markdown",
   "metadata": {
    "colab_type": "text",
    "id": "ALV3I8bbrm5z"
   },
   "source": [
    "Ahora podremos ver que realmente nuestro Drive, se ha montado en la ruta **/content/drive/**. Podemos comprobarlo bien en la sección de directorio de datos del panel lateral de **Colab**:\n",
    "\n",
    "![](https://gitlab.com/malkab/mlk-public-assets/raw/develop/didactica-python-remote_sensing_ml-images/020-google-colab-000.png)\n",
    "\n",
    "o directamente lanzándole a la instancia Linux subyacente un comando **ls**. Podemos mandar comandos **Bash** a la instancia Linux prefijándola con **!**:"
   ]
  },
  {
   "cell_type": "code",
   "execution_count": null,
   "metadata": {
    "colab": {},
    "colab_type": "code",
    "id": "4JDca5mRplQl"
   },
   "outputs": [],
   "source": [
    "!ls -alh \"/content/drive/My Drive/remote-sensing-data/\""
   ]
  },
  {
   "cell_type": "code",
   "execution_count": null,
   "metadata": {
    "colab": {},
    "colab_type": "code",
    "id": "R-wYTRM8s6tM"
   },
   "outputs": [],
   "source": [
    "!ls -alh \"/content/drive/My Drive/remote-sensing-data/010-in/\""
   ]
  },
  {
   "cell_type": "markdown",
   "metadata": {
    "colab_type": "text",
    "id": "9oMkPYRQtH8x"
   },
   "source": [
    "Este proceso de montaje de sistema de ficheros de Drive tendremos que hacerlo para cada cuaderno que utilice datos externos."
   ]
  }
 ],
 "metadata": {
  "colab": {
   "collapsed_sections": [],
   "name": "005_colab.ipynb",
   "provenance": [],
   "toc_visible": true
  },
  "kernelspec": {
   "display_name": "Python 3",
   "language": "python",
   "name": "python3"
  },
  "language_info": {
   "codemirror_mode": {
    "name": "ipython",
    "version": 3
   },
   "file_extension": ".py",
   "mimetype": "text/x-python",
   "name": "python",
   "nbconvert_exporter": "python",
   "pygments_lexer": "ipython3",
   "version": "3.8.8"
  }
 },
 "nbformat": 4,
 "nbformat_minor": 4
}
