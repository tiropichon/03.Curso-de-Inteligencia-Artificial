{
  "nbformat": 4,
  "nbformat_minor": 0,
  "metadata": {
    "kernelspec": {
      "display_name": "Python 3",
      "language": "python",
      "name": "python3"
    },
    "language_info": {
      "codemirror_mode": {
        "name": "ipython",
        "version": 3
      },
      "file_extension": ".py",
      "mimetype": "text/x-python",
      "name": "python",
      "nbconvert_exporter": "python",
      "pygments_lexer": "ipython3",
      "version": "3.7.9"
    },
    "colab": {
      "name": "MNIST Convolutional NN.ipynb",
      "provenance": []
    },
    "accelerator": "GPU"
  },
  "cells": [
    {
      "cell_type": "markdown",
      "metadata": {
        "id": "8ebXJYmq2leS"
      },
      "source": [
        "## Convolutional Neural Network\n",
        "\n",
        "En el ejercicio siguiente se va a realizar un modelo de clasificación para el dataset MNIST <https://en.wikipedia.org/wiki/MNIST_database>. Para ello, vamos a diseñar una red neuronal convolucional con 2 capas usando el framework KERAS. La red que vamos a diseñar realizará lo siguiente:\n",
        "\n",
        "- Vamos a utilizar dos capas convolucionales con filtros de kernel de tamaño 3 (3x3)\n",
        "- La función de activación será tipo RELU\n",
        "- Por último, vamos a \"aplastar\" la salida de las capas convolucionales para conectarlo con una última capa sencilla\n",
        "- Una capa sencilla de salida con los 10 números posibles\n",
        "\n",
        "Como ya sabemos, los datos son imágenes de 28x28 píxeles y existen 10 números a clasificar, del 0 al 9. Puesto que el valor de los píxeles está en escala de grises del 0 al 255, normalizamos de 0 a 1."
      ]
    },
    {
      "cell_type": "code",
      "metadata": {
        "colab": {
          "base_uri": "https://localhost:8080/"
        },
        "id": "8145tGc62leZ",
        "outputId": "5a0db08b-e00a-4ede-e732-9898289e5518"
      },
      "source": [
        "from keras.datasets import mnist\n",
        "import numpy as np\n",
        "\n",
        "(X_train, y_train), (X_test, y_test) = mnist.load_data()"
      ],
      "execution_count": 1,
      "outputs": [
        {
          "output_type": "stream",
          "text": [
            "Downloading data from https://storage.googleapis.com/tensorflow/tf-keras-datasets/mnist.npz\n",
            "11493376/11490434 [==============================] - 0s 0us/step\n",
            "11501568/11490434 [==============================] - 0s 0us/step\n"
          ],
          "name": "stdout"
        }
      ]
    },
    {
      "cell_type": "code",
      "metadata": {
        "colab": {
          "base_uri": "https://localhost:8080/"
        },
        "id": "t3ssue8z2leb",
        "outputId": "57bf3316-0542-4d43-83a5-4bc598e2b273"
      },
      "source": [
        "X_train[0].shape"
      ],
      "execution_count": 2,
      "outputs": [
        {
          "output_type": "execute_result",
          "data": {
            "text/plain": [
              "(28, 28)"
            ]
          },
          "metadata": {
            "tags": []
          },
          "execution_count": 2
        }
      ]
    },
    {
      "cell_type": "code",
      "metadata": {
        "colab": {
          "base_uri": "https://localhost:8080/"
        },
        "id": "fDYFfWyj2led",
        "outputId": "9e2da32a-3586-42d3-e71c-b8fc100f7e04"
      },
      "source": [
        "# Mostramos una imagen\n",
        "print(X_train.shape)\n",
        "print(X_train[0].shape)\n",
        "X_train[0]"
      ],
      "execution_count": 3,
      "outputs": [
        {
          "output_type": "stream",
          "text": [
            "(60000, 28, 28)\n",
            "(28, 28)\n"
          ],
          "name": "stdout"
        },
        {
          "output_type": "execute_result",
          "data": {
            "text/plain": [
              "array([[  0,   0,   0,   0,   0,   0,   0,   0,   0,   0,   0,   0,   0,\n",
              "          0,   0,   0,   0,   0,   0,   0,   0,   0,   0,   0,   0,   0,\n",
              "          0,   0],\n",
              "       [  0,   0,   0,   0,   0,   0,   0,   0,   0,   0,   0,   0,   0,\n",
              "          0,   0,   0,   0,   0,   0,   0,   0,   0,   0,   0,   0,   0,\n",
              "          0,   0],\n",
              "       [  0,   0,   0,   0,   0,   0,   0,   0,   0,   0,   0,   0,   0,\n",
              "          0,   0,   0,   0,   0,   0,   0,   0,   0,   0,   0,   0,   0,\n",
              "          0,   0],\n",
              "       [  0,   0,   0,   0,   0,   0,   0,   0,   0,   0,   0,   0,   0,\n",
              "          0,   0,   0,   0,   0,   0,   0,   0,   0,   0,   0,   0,   0,\n",
              "          0,   0],\n",
              "       [  0,   0,   0,   0,   0,   0,   0,   0,   0,   0,   0,   0,   0,\n",
              "          0,   0,   0,   0,   0,   0,   0,   0,   0,   0,   0,   0,   0,\n",
              "          0,   0],\n",
              "       [  0,   0,   0,   0,   0,   0,   0,   0,   0,   0,   0,   0,   3,\n",
              "         18,  18,  18, 126, 136, 175,  26, 166, 255, 247, 127,   0,   0,\n",
              "          0,   0],\n",
              "       [  0,   0,   0,   0,   0,   0,   0,   0,  30,  36,  94, 154, 170,\n",
              "        253, 253, 253, 253, 253, 225, 172, 253, 242, 195,  64,   0,   0,\n",
              "          0,   0],\n",
              "       [  0,   0,   0,   0,   0,   0,   0,  49, 238, 253, 253, 253, 253,\n",
              "        253, 253, 253, 253, 251,  93,  82,  82,  56,  39,   0,   0,   0,\n",
              "          0,   0],\n",
              "       [  0,   0,   0,   0,   0,   0,   0,  18, 219, 253, 253, 253, 253,\n",
              "        253, 198, 182, 247, 241,   0,   0,   0,   0,   0,   0,   0,   0,\n",
              "          0,   0],\n",
              "       [  0,   0,   0,   0,   0,   0,   0,   0,  80, 156, 107, 253, 253,\n",
              "        205,  11,   0,  43, 154,   0,   0,   0,   0,   0,   0,   0,   0,\n",
              "          0,   0],\n",
              "       [  0,   0,   0,   0,   0,   0,   0,   0,   0,  14,   1, 154, 253,\n",
              "         90,   0,   0,   0,   0,   0,   0,   0,   0,   0,   0,   0,   0,\n",
              "          0,   0],\n",
              "       [  0,   0,   0,   0,   0,   0,   0,   0,   0,   0,   0, 139, 253,\n",
              "        190,   2,   0,   0,   0,   0,   0,   0,   0,   0,   0,   0,   0,\n",
              "          0,   0],\n",
              "       [  0,   0,   0,   0,   0,   0,   0,   0,   0,   0,   0,  11, 190,\n",
              "        253,  70,   0,   0,   0,   0,   0,   0,   0,   0,   0,   0,   0,\n",
              "          0,   0],\n",
              "       [  0,   0,   0,   0,   0,   0,   0,   0,   0,   0,   0,   0,  35,\n",
              "        241, 225, 160, 108,   1,   0,   0,   0,   0,   0,   0,   0,   0,\n",
              "          0,   0],\n",
              "       [  0,   0,   0,   0,   0,   0,   0,   0,   0,   0,   0,   0,   0,\n",
              "         81, 240, 253, 253, 119,  25,   0,   0,   0,   0,   0,   0,   0,\n",
              "          0,   0],\n",
              "       [  0,   0,   0,   0,   0,   0,   0,   0,   0,   0,   0,   0,   0,\n",
              "          0,  45, 186, 253, 253, 150,  27,   0,   0,   0,   0,   0,   0,\n",
              "          0,   0],\n",
              "       [  0,   0,   0,   0,   0,   0,   0,   0,   0,   0,   0,   0,   0,\n",
              "          0,   0,  16,  93, 252, 253, 187,   0,   0,   0,   0,   0,   0,\n",
              "          0,   0],\n",
              "       [  0,   0,   0,   0,   0,   0,   0,   0,   0,   0,   0,   0,   0,\n",
              "          0,   0,   0,   0, 249, 253, 249,  64,   0,   0,   0,   0,   0,\n",
              "          0,   0],\n",
              "       [  0,   0,   0,   0,   0,   0,   0,   0,   0,   0,   0,   0,   0,\n",
              "          0,  46, 130, 183, 253, 253, 207,   2,   0,   0,   0,   0,   0,\n",
              "          0,   0],\n",
              "       [  0,   0,   0,   0,   0,   0,   0,   0,   0,   0,   0,   0,  39,\n",
              "        148, 229, 253, 253, 253, 250, 182,   0,   0,   0,   0,   0,   0,\n",
              "          0,   0],\n",
              "       [  0,   0,   0,   0,   0,   0,   0,   0,   0,   0,  24, 114, 221,\n",
              "        253, 253, 253, 253, 201,  78,   0,   0,   0,   0,   0,   0,   0,\n",
              "          0,   0],\n",
              "       [  0,   0,   0,   0,   0,   0,   0,   0,  23,  66, 213, 253, 253,\n",
              "        253, 253, 198,  81,   2,   0,   0,   0,   0,   0,   0,   0,   0,\n",
              "          0,   0],\n",
              "       [  0,   0,   0,   0,   0,   0,  18, 171, 219, 253, 253, 253, 253,\n",
              "        195,  80,   9,   0,   0,   0,   0,   0,   0,   0,   0,   0,   0,\n",
              "          0,   0],\n",
              "       [  0,   0,   0,   0,  55, 172, 226, 253, 253, 253, 253, 244, 133,\n",
              "         11,   0,   0,   0,   0,   0,   0,   0,   0,   0,   0,   0,   0,\n",
              "          0,   0],\n",
              "       [  0,   0,   0,   0, 136, 253, 253, 253, 212, 135, 132,  16,   0,\n",
              "          0,   0,   0,   0,   0,   0,   0,   0,   0,   0,   0,   0,   0,\n",
              "          0,   0],\n",
              "       [  0,   0,   0,   0,   0,   0,   0,   0,   0,   0,   0,   0,   0,\n",
              "          0,   0,   0,   0,   0,   0,   0,   0,   0,   0,   0,   0,   0,\n",
              "          0,   0],\n",
              "       [  0,   0,   0,   0,   0,   0,   0,   0,   0,   0,   0,   0,   0,\n",
              "          0,   0,   0,   0,   0,   0,   0,   0,   0,   0,   0,   0,   0,\n",
              "          0,   0],\n",
              "       [  0,   0,   0,   0,   0,   0,   0,   0,   0,   0,   0,   0,   0,\n",
              "          0,   0,   0,   0,   0,   0,   0,   0,   0,   0,   0,   0,   0,\n",
              "          0,   0]], dtype=uint8)"
            ]
          },
          "metadata": {
            "tags": []
          },
          "execution_count": 3
        }
      ]
    },
    {
      "cell_type": "code",
      "metadata": {
        "colab": {
          "base_uri": "https://localhost:8080/"
        },
        "id": "5FO_z7Bw2lef",
        "outputId": "67739712-5945-4fc9-efe5-09739b797ea0"
      },
      "source": [
        "# Y el número que representa\n",
        "y_train[0]"
      ],
      "execution_count": 4,
      "outputs": [
        {
          "output_type": "execute_result",
          "data": {
            "text/plain": [
              "5"
            ]
          },
          "metadata": {
            "tags": []
          },
          "execution_count": 4
        }
      ]
    },
    {
      "cell_type": "code",
      "metadata": {
        "colab": {
          "base_uri": "https://localhost:8080/",
          "height": 282
        },
        "id": "gt5BXjdU2leg",
        "outputId": "f36142eb-69c3-4923-9055-ee436814626e"
      },
      "source": [
        "import matplotlib.pyplot as plt\n",
        "\n",
        "# Dibujamos una muetra\n",
        "plt.imshow(X_train[2340])"
      ],
      "execution_count": 7,
      "outputs": [
        {
          "output_type": "execute_result",
          "data": {
            "text/plain": [
              "<matplotlib.image.AxesImage at 0x7fa0098f5490>"
            ]
          },
          "metadata": {
            "tags": []
          },
          "execution_count": 7
        },
        {
          "output_type": "display_data",
          "data": {
            "image/png": "[encoded data removed]",
            "text/plain": [
              "<Figure size 432x288 with 1 Axes>"
            ]
          },
          "metadata": {
            "tags": [],
            "needs_background": "light"
          }
        }
      ]
    },
    {
      "cell_type": "markdown",
      "metadata": {
        "id": "iylSOipV2lei"
      },
      "source": [
        "Realizamos un reshape de los datos de entrada para ajustarlos a un Tensor. Puesto que no tenemos color, la dimensión del último canal es 1"
      ]
    },
    {
      "cell_type": "code",
      "metadata": {
        "id": "0DOAFYRl2lej"
      },
      "source": [
        "# reshape para un tensor\n",
        "X_train = X_train.reshape(60000,28,28,1)\n",
        "X_test = X_test.reshape(10000,28,28,1)"
      ],
      "execution_count": 8,
      "outputs": []
    },
    {
      "cell_type": "code",
      "metadata": {
        "colab": {
          "base_uri": "https://localhost:8080/"
        },
        "id": "BgtrJkz82lel",
        "outputId": "54b4f312-631c-4292-860d-cde17a94e9a2"
      },
      "source": [
        "from tensorflow.keras.utils import to_categorical\n",
        "\n",
        "# Realizamos un one-hot encode de la variable objetivo. Es decir, en vez de tener un valor del 0 al 9, vamos a tener 10 columnas con un 0 o un 1\n",
        "print(f\"Datos originales :{y_train.shape}\")\n",
        "y_train = to_categorical(y_train)\n",
        "print(f\"Datos transformados :{y_train.shape}\")\n",
        "y_test = to_categorical(y_test)\n",
        "y_train[0]"
      ],
      "execution_count": 10,
      "outputs": [
        {
          "output_type": "stream",
          "text": [
            "Datos originales :(60000,)\n",
            "Datos transformados :(60000, 10)\n"
          ],
          "name": "stdout"
        },
        {
          "output_type": "execute_result",
          "data": {
            "text/plain": [
              "array([0., 0., 0., 0., 0., 1., 0., 0., 0., 0.], dtype=float32)"
            ]
          },
          "metadata": {
            "tags": []
          },
          "execution_count": 10
        }
      ]
    },
    {
      "cell_type": "markdown",
      "metadata": {
        "id": "LR5H5bzN2lel"
      },
      "source": [
        "Creamos el modelo"
      ]
    },
    {
      "cell_type": "code",
      "metadata": {
        "id": "pzBpPhRE2lem"
      },
      "source": [
        "from keras.models import Sequential\n",
        "from keras.layers import Dense, Conv2D, Flatten, MaxPooling2D, BatchNormalization\n",
        "\n",
        "# creación del modelo\n",
        "model = Sequential()\n",
        "\n",
        "model.add(BatchNormalization(input_shape=(28,28,1)))\n",
        "# Añadimos capas. En este caso 2 capas convolucionales + activación con RELU + Flatten (para pasar a 1 dimension)\n",
        "model.add(Conv2D(64, kernel_size=3, activation='relu', padding=\"same\", strides=(1,1)))\n",
        "model.add(MaxPooling2D())\n",
        "model.add(BatchNormalization())\n",
        "model.add(Conv2D(32, kernel_size=3, activation='relu'))\n",
        "model.add(MaxPooling2D())\n",
        "model.add(BatchNormalization())\n",
        "model.add(Flatten())\n",
        "\n",
        "# finalmente añadimos la última capa de tamaño 10 = al tamaño de nuestra clasificación de números y aplicamos la función softmax. \n",
        "# la función softmax hace que la suma del vector de salida sea 1, por lo que los diferentes valores representan la probabildad de cada número\n",
        "model.add(Dense(10, activation='softmax'))"
      ],
      "execution_count": 41,
      "outputs": []
    },
    {
      "cell_type": "code",
      "metadata": {
        "colab": {
          "base_uri": "https://localhost:8080/"
        },
        "id": "EupyzECw407x",
        "outputId": "96e54a96-7852-44ec-b8ae-daf1ad4bbacb"
      },
      "source": [
        "model.summary()"
      ],
      "execution_count": 42,
      "outputs": [
        {
          "output_type": "stream",
          "text": [
            "Model: \"sequential_12\"\n",
            "_________________________________________________________________\n",
            "Layer (type)                 Output Shape              Param #   \n",
            "=================================================================\n",
            "batch_normalization_5 (Batch (None, 28, 28, 1)         4         \n",
            "_________________________________________________________________\n",
            "conv2d_21 (Conv2D)           (None, 28, 28, 64)        640       \n",
            "_________________________________________________________________\n",
            "max_pooling2d_16 (MaxPooling (None, 14, 14, 64)        0         \n",
            "_________________________________________________________________\n",
            "batch_normalization_6 (Batch (None, 14, 14, 64)        256       \n",
            "_________________________________________________________________\n",
            "conv2d_22 (Conv2D)           (None, 12, 12, 32)        18464     \n",
            "_________________________________________________________________\n",
            "max_pooling2d_17 (MaxPooling (None, 6, 6, 32)          0         \n",
            "_________________________________________________________________\n",
            "batch_normalization_7 (Batch (None, 6, 6, 32)          128       \n",
            "_________________________________________________________________\n",
            "flatten_10 (Flatten)         (None, 1152)              0         \n",
            "_________________________________________________________________\n",
            "dense_10 (Dense)             (None, 10)                11530     \n",
            "=================================================================\n",
            "Total params: 31,022\n",
            "Trainable params: 30,828\n",
            "Non-trainable params: 194\n",
            "_________________________________________________________________\n"
          ],
          "name": "stdout"
        }
      ]
    },
    {
      "cell_type": "code",
      "metadata": {
        "id": "sFd0ebZJ2lem"
      },
      "source": [
        "# Compilamos el modelo para calcular su acierto\n",
        "# Utilizamos valores \"por defecto\" en el optimizador, el cálculo de la pérdida y la métrica\n",
        "model.compile(optimizer='adam', loss='categorical_crossentropy', metrics=['accuracy', 'mse'])"
      ],
      "execution_count": 43,
      "outputs": []
    },
    {
      "cell_type": "code",
      "metadata": {
        "colab": {
          "base_uri": "https://localhost:8080/"
        },
        "id": "TotZjGKC2lem",
        "outputId": "1a775d41-0e92-4fbb-9c2e-1276347a5b86"
      },
      "source": [
        "# Lo entrenamos, en este caso durante 3 iteraciones (probar modificar este número)\n",
        "# Utilizamos el TRAIN para entrenar y el TEST para validar el resultado\n",
        "history = model.fit(X_train, y_train, validation_data=(X_test, y_test), epochs=5)"
      ],
      "execution_count": 44,
      "outputs": [
        {
          "output_type": "stream",
          "text": [
            "Epoch 1/5\n",
            "1875/1875 [==============================] - 10s 4ms/step - loss: 0.2102 - accuracy: 0.9347 - mse: 0.0094 - val_loss: 0.0515 - val_accuracy: 0.9824 - val_mse: 0.0027\n",
            "Epoch 2/5\n",
            "1875/1875 [==============================] - 6s 3ms/step - loss: 0.0420 - accuracy: 0.9872 - mse: 0.0020 - val_loss: 0.0517 - val_accuracy: 0.9843 - val_mse: 0.0024\n",
            "Epoch 3/5\n",
            "1875/1875 [==============================] - 6s 3ms/step - loss: 0.0296 - accuracy: 0.9905 - mse: 0.0015 - val_loss: 0.0363 - val_accuracy: 0.9880 - val_mse: 0.0018\n",
            "Epoch 4/5\n",
            "1875/1875 [==============================] - 6s 3ms/step - loss: 0.0216 - accuracy: 0.9934 - mse: 0.0011 - val_loss: 0.0502 - val_accuracy: 0.9846 - val_mse: 0.0025\n",
            "Epoch 5/5\n",
            "1875/1875 [==============================] - 6s 3ms/step - loss: 0.0160 - accuracy: 0.9948 - mse: 7.9519e-04 - val_loss: 0.0376 - val_accuracy: 0.9897 - val_mse: 0.0016\n"
          ],
          "name": "stdout"
        }
      ]
    },
    {
      "cell_type": "markdown",
      "metadata": {
        "id": "623ZhY_02len"
      },
      "source": [
        "Realizamos unas cuantas predicciones y finalmente calculamos la precisión del modelo"
      ]
    },
    {
      "cell_type": "code",
      "metadata": {
        "colab": {
          "base_uri": "https://localhost:8080/",
          "height": 573
        },
        "id": "Czcf8vvD2len",
        "outputId": "f5724ac1-630b-434e-e8e6-92eea7f7bc28"
      },
      "source": [
        "plt.plot(history.history['accuracy'])\n",
        "plt.title('Model accuracy')\n",
        "plt.ylabel('Accuracy')\n",
        "plt.xlabel('Epoch')\n",
        "plt.legend(['Train', 'Test'], loc='upper left')\n",
        "plt.show()\n",
        "\n",
        "# Plot training & validation loss values\n",
        "plt.plot(history.history['loss'])\n",
        "plt.title('Model loss')\n",
        "plt.ylabel('Loss')\n",
        "plt.xlabel('Epoch')\n",
        "plt.legend(['Train', 'Test'], loc='upper right')\n",
        "plt.show()"
      ],
      "execution_count": 26,
      "outputs": [
        {
          "output_type": "display_data",
          "data": {
            "image/png": "[encoded data removed]",
            "text/plain": [
              "<Figure size 432x288 with 1 Axes>"
            ]
          },
          "metadata": {
            "tags": [],
            "needs_background": "light"
          }
        },
        {
          "output_type": "display_data",
          "data": {
            "image/png": "[encoded data removed]",
            "text/plain": [
              "<Figure size 432x288 with 1 Axes>"
            ]
          },
          "metadata": {
            "tags": [],
            "needs_background": "light"
          }
        }
      ]
    },
    {
      "cell_type": "code",
      "metadata": {
        "colab": {
          "base_uri": "https://localhost:8080/"
        },
        "id": "xA8KE-1Q2len",
        "outputId": "8f7c9088-c8d9-472b-f03c-c7d59fd36bde"
      },
      "source": [
        "# Probabilidades de todos los números de las primeras 4 muestras\n",
        "model.predict(X_test[:4])"
      ],
      "execution_count": 27,
      "outputs": [
        {
          "output_type": "execute_result",
          "data": {
            "text/plain": [
              "array([[7.5049689e-12, 2.4734062e-10, 2.1223792e-07, 3.1284951e-06,\n",
              "        4.8474783e-11, 5.2414441e-11, 1.2284023e-16, 9.9999595e-01,\n",
              "        4.5571580e-10, 6.6045214e-07],\n",
              "       [7.1168106e-11, 1.5856969e-10, 1.0000000e+00, 6.6731803e-14,\n",
              "        1.4532497e-15, 4.7714018e-17, 4.9736916e-11, 1.6582772e-15,\n",
              "        1.2160024e-10, 5.2967056e-20],\n",
              "       [5.1048457e-11, 9.9999833e-01, 2.9310346e-08, 5.7438117e-12,\n",
              "        3.8224348e-07, 2.9103935e-09, 2.9947731e-08, 1.4418296e-07,\n",
              "        1.1102242e-06, 1.2442946e-08],\n",
              "       [9.9999976e-01, 1.5342040e-17, 2.6208059e-07, 1.8522584e-14,\n",
              "        1.1952508e-11, 5.1397389e-12, 2.2332729e-08, 5.7502810e-14,\n",
              "        2.8845173e-09, 1.3160794e-09]], dtype=float32)"
            ]
          },
          "metadata": {
            "tags": []
          },
          "execution_count": 27
        }
      ]
    },
    {
      "cell_type": "code",
      "metadata": {
        "colab": {
          "base_uri": "https://localhost:8080/"
        },
        "id": "Sgm9SVtU2leo",
        "outputId": "161d9b5f-a3e2-496b-e35f-c5c381f959a0"
      },
      "source": [
        "# Si utilizamos la función softmax en esto para ver cuáles son los valores máximos\n",
        "print(f\"Primer valor: {np.argmax(model.predict(X_test[:4])[0])}\")\n",
        "print(f\"Segundo valor: {np.argmax(model.predict(X_test[:4])[1])}\")\n",
        "print(f\"Tercer valor: {np.argmax(model.predict(X_test[:4])[2])}\")\n",
        "print(f\"Cuarto valor: {np.argmax(model.predict(X_test[:4])[3])}\")"
      ],
      "execution_count": 28,
      "outputs": [
        {
          "output_type": "stream",
          "text": [
            "Primer valor: 7\n",
            "Segundo valor: 2\n",
            "Tercer valor: 1\n",
            "Cuarto valor: 0\n"
          ],
          "name": "stdout"
        }
      ]
    },
    {
      "cell_type": "code",
      "metadata": {
        "colab": {
          "base_uri": "https://localhost:8080/"
        },
        "id": "wYX2g7Kx2leo",
        "outputId": "efffc802-af36-4b19-8747-fe6b7b752131"
      },
      "source": [
        "# Que en este caso coincide con los primeros 4 valores que son (normal, ya que tenemos una precisión del 97%)\n",
        "y_test[:4]"
      ],
      "execution_count": 29,
      "outputs": [
        {
          "output_type": "execute_result",
          "data": {
            "text/plain": [
              "array([[0., 0., 0., 0., 0., 0., 0., 1., 0., 0.],\n",
              "       [0., 0., 1., 0., 0., 0., 0., 0., 0., 0.],\n",
              "       [0., 1., 0., 0., 0., 0., 0., 0., 0., 0.],\n",
              "       [1., 0., 0., 0., 0., 0., 0., 0., 0., 0.]], dtype=float32)"
            ]
          },
          "metadata": {
            "tags": []
          },
          "execution_count": 29
        }
      ]
    },
    {
      "cell_type": "code",
      "metadata": {
        "colab": {
          "base_uri": "https://localhost:8080/"
        },
        "id": "UYPWo1La2leo",
        "outputId": "f56e6042-b69f-46db-83cd-dedc46f472b7"
      },
      "source": [
        "# Si quisiéramos calcular la precisión del modelo con cualquier dataset, no habría más que utilizar la expresión evaluate\n",
        "# Esta nos devuelve primero la pérdida de validación y luego la precisión\n",
        "model.evaluate(X_test, y_test)"
      ],
      "execution_count": 30,
      "outputs": [
        {
          "output_type": "stream",
          "text": [
            "313/313 [==============================] - 1s 2ms/step - loss: 0.0509 - accuracy: 0.9861\n"
          ],
          "name": "stdout"
        },
        {
          "output_type": "execute_result",
          "data": {
            "text/plain": [
              "[0.05087694525718689, 0.9861000180244446]"
            ]
          },
          "metadata": {
            "tags": []
          },
          "execution_count": 30
        }
      ]
    },
    {
      "cell_type": "markdown",
      "metadata": {
        "id": "1R1CpPVc2leo"
      },
      "source": [
        "Cosas que se dejan al alumno para intentar mejorar el modelo\n",
        "- Añadir una capa de normalización para trabajar con valores siempre entre 0 y 1\n",
        "- Añadir una capa Fully Connected\n",
        "- Añadir/Quitar una capa convolucional\n",
        "- Añadir una capa de DropOut que ayude a evitar el overfitting\n",
        "- Ejecutar más pasos de entrenamiento"
      ]
    }
  ]
}